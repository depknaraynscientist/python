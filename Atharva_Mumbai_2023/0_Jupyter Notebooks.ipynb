{
 "cells": [
  {
   "cell_type": "markdown",
   "metadata": {},
   "source": [
    "# Workshop on Machine Learning (Speaker : Deepak Narayan)"
   ]
  },
  {
   "cell_type": "markdown",
   "metadata": {},
   "source": [
    "**If anyone has any questions, don't hesitate to ask them. We all have to start somewhere. If you have opened this file, it means that you downloaded and installed Anaconda, and have opened Jupyter Notebooks. Good work!**\n",
    "\n",
    "`Do not use Internet Explorer as default browser`. Jupyter Notebooks will open in your default browser and is how we will be running code and where the analyses will be done."
   ]
  },
  {
   "cell_type": "markdown",
   "metadata": {},
   "source": [
    "A **code cell** is just like a python script. You write code to perform in them.\n",
    "I am writing a text here\n",
    "A **markdown cell** uses the markdown format of text editing and is useful for documentation and instructions."
   ]
  },
  {
   "cell_type": "code",
   "execution_count": null,
   "metadata": {},
   "outputs": [],
   "source": [
    "#This is a code cell\n",
    "print('hello world')"
   ]
  },
  {
   "cell_type": "markdown",
   "metadata": {},
   "source": [
    "This is a markdown cell. I am editing this cell."
   ]
  },
  {
   "cell_type": "markdown",
   "metadata": {},
   "source": [
    "Click on a code cell and use Shift + Enter to run the code cell. Once run, you can see the output below the cell."
   ]
  },
  {
   "cell_type": "code",
   "execution_count": null,
   "metadata": {},
   "outputs": [],
   "source": [
    "print('hello world')"
   ]
  },
  {
   "cell_type": "code",
   "execution_count": null,
   "metadata": {},
   "outputs": [],
   "source": [
    "#this code cell will throw an error if executed.\n",
    "do you see how there is the 'In [ ]:' on the side of the cell?\n",
    "That is a quick way to tell that this cell is a code cell and not a markdown cell.\n",
    "\n",
    "another way is that various word colors are changing. Another clue is that if you continue to type, there is no word wrap"
   ]
  },
  {
   "cell_type": "code",
   "execution_count": null,
   "metadata": {},
   "outputs": [],
   "source": []
  },
  {
   "cell_type": "code",
   "execution_count": null,
   "metadata": {},
   "outputs": [],
   "source": []
  },
  {
   "cell_type": "code",
   "execution_count": null,
   "metadata": {},
   "outputs": [],
   "source": [
    "#Alt + enter\n",
    "print('hello')"
   ]
  },
  {
   "cell_type": "code",
   "execution_count": null,
   "metadata": {},
   "outputs": [],
   "source": []
  },
  {
   "cell_type": "code",
   "execution_count": null,
   "metadata": {},
   "outputs": [],
   "source": [
    "#m, y, dd, b\n"
   ]
  },
  {
   "cell_type": "code",
   "execution_count": null,
   "metadata": {},
   "outputs": [],
   "source": [
    "#kernel : restart kernel and options\n",
    "i = 1\n",
    "while (i ==1):\n",
    "    print(i)"
   ]
  },
  {
   "cell_type": "markdown",
   "metadata": {},
   "source": [
    "# Formatting tips :\n",
    "## smaller heading\n",
    "#### smaller"
   ]
  },
  {
   "cell_type": "markdown",
   "metadata": {},
   "source": [
    "**this is bold**  \n",
    "`this is highlighted`  \n",
    "*this is italics*  \n",
    "tell about newline  "
   ]
  },
  {
   "cell_type": "markdown",
   "metadata": {},
   "source": [
    "*italics*"
   ]
  },
  {
   "cell_type": "code",
   "execution_count": 1,
   "metadata": {},
   "outputs": [],
   "source": [
    "#Download as.\n",
    "#Renaming\n"
   ]
  },
  {
   "cell_type": "code",
   "execution_count": null,
   "metadata": {},
   "outputs": [],
   "source": []
  }
 ],
 "metadata": {
  "kernelspec": {
   "display_name": "Python 3 (ipykernel)",
   "language": "python",
   "name": "python3"
  },
  "language_info": {
   "codemirror_mode": {
    "name": "ipython",
    "version": 3
   },
   "file_extension": ".py",
   "mimetype": "text/x-python",
   "name": "python",
   "nbconvert_exporter": "python",
   "pygments_lexer": "ipython3",
   "version": "3.11.5"
  }
 },
 "nbformat": 4,
 "nbformat_minor": 4
}
